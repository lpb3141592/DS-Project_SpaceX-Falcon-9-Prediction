{
 "cells": [
  {
   "cell_type": "markdown",
   "id": "8cc36e85-e742-4c84-837a-98a0597a96fe",
   "metadata": {},
   "source": [
    "<p style=\"text-align:center\">\n",
    "    <a href=\"https://skills.network\" target=\"_blank\">\n",
    "    <img src=\"https://cf-courses-data.s3.us.cloud-object-storage.appdomain.cloud/assets/logos/SN_web_lightmode.png\" width=\"200\" alt=\"Skills Network Logo\">\n",
    "    </a>\n",
    "</p>\n"
   ]
  },
  {
   "cell_type": "markdown",
   "id": "c1802427-1e09-479e-8812-2a7a6ab977cb",
   "metadata": {},
   "source": [
    "# **Space X  Falcon 9 First Stage Landing Prediction**\n"
   ]
  },
  {
   "cell_type": "markdown",
   "id": "9a3e2ec6-7d51-4cc7-9581-4e7c6901366f",
   "metadata": {},
   "source": [
    "## Web scraping Falcon 9 and Falcon Heavy Launches Records from Wikipedia\n"
   ]
  },
  {
   "cell_type": "markdown",
   "id": "493069c4-2d91-4f44-9cbc-39b992d117fa",
   "metadata": {},
   "source": [
    "Estimated time needed: **40** minutes\n"
   ]
  },
  {
   "cell_type": "markdown",
   "id": "6f6fb636-4197-4165-abe1-3977cb145b7e",
   "metadata": {},
   "source": [
    "In this lab, you will be performing web scraping to collect Falcon 9 historical launch records from a Wikipedia page titled `List of Falcon 9 and Falcon Heavy launches`\n",
    "\n",
    "https://en.wikipedia.org/wiki/List_of_Falcon_9_and_Falcon_Heavy_launches\n"
   ]
  },
  {
   "cell_type": "markdown",
   "id": "a44468cb-dc83-4bb6-a2c8-23f11430c25d",
   "metadata": {},
   "source": [
    "![](https://cf-courses-data.s3.us.cloud-object-storage.appdomain.cloud/IBM-DS0321EN-SkillsNetwork/labs/module_1_L2/images/Falcon9_rocket_family.svg)\n"
   ]
  },
  {
   "cell_type": "markdown",
   "id": "656e6880-2131-4e13-80ca-72b2569aabfa",
   "metadata": {},
   "source": [
    "Falcon 9 first stage will land successfully\n"
   ]
  },
  {
   "cell_type": "markdown",
   "id": "ed12b653-83f6-460a-a588-aafb3b588305",
   "metadata": {},
   "source": [
    "![](https://cf-courses-data.s3.us.cloud-object-storage.appdomain.cloud/IBMDeveloperSkillsNetwork-DS0701EN-SkillsNetwork/api/Images/landing_1.gif)\n"
   ]
  },
  {
   "cell_type": "markdown",
   "id": "e633b9ae-e2b8-4286-997c-eefd1e9c5a21",
   "metadata": {},
   "source": [
    "Several examples of an unsuccessful landing are shown here:\n"
   ]
  },
  {
   "cell_type": "markdown",
   "id": "2e44dc45-d2f4-4c3b-a3db-2160a716c5ca",
   "metadata": {},
   "source": [
    "![](https://cf-courses-data.s3.us.cloud-object-storage.appdomain.cloud/IBMDeveloperSkillsNetwork-DS0701EN-SkillsNetwork/api/Images/crash.gif)\n"
   ]
  },
  {
   "cell_type": "markdown",
   "id": "7f268b83-8634-43c2-8bc4-337397bbb892",
   "metadata": {},
   "source": [
    "More specifically, the launch records are stored in a HTML table shown below:\n"
   ]
  },
  {
   "cell_type": "markdown",
   "id": "810a3675-0570-4ce6-8dbd-639aa802fb43",
   "metadata": {},
   "source": [
    "![](https://cf-courses-data.s3.us.cloud-object-storage.appdomain.cloud/IBM-DS0321EN-SkillsNetwork/labs/module_1_L2/images/falcon9-launches-wiki.png)\n"
   ]
  },
  {
   "cell_type": "markdown",
   "id": "bfc727c3-7d98-4b3e-8937-b478f6689c2c",
   "metadata": {},
   "source": [
    "  ## Objectives\n",
    "Web scrap Falcon 9 launch records with `BeautifulSoup`: \n",
    "- Extract a Falcon 9 launch records HTML table from Wikipedia\n",
    "- Parse the table and convert it into a Pandas data frame\n"
   ]
  },
  {
   "cell_type": "markdown",
   "id": "949facc0-8067-4e1d-aa63-e7f0d3a1d818",
   "metadata": {},
   "source": [
    "First let's import required packages for this lab\n"
   ]
  },
  {
   "cell_type": "code",
   "execution_count": 1,
   "id": "8920c88b-3865-4bbf-8f3c-1a1da57d0356",
   "metadata": {},
   "outputs": [],
   "source": [
    "import sys\n",
    "\n",
    "import requests\n",
    "from bs4 import BeautifulSoup\n",
    "import re\n",
    "import unicodedata\n",
    "import pandas as pd"
   ]
  },
  {
   "cell_type": "markdown",
   "id": "13de2829-bcd5-485a-b0b7-cb67518f2ddf",
   "metadata": {},
   "source": [
    "and we will provide some helper functions for you to process web scraped HTML table\n"
   ]
  },
  {
   "cell_type": "code",
   "execution_count": 2,
   "id": "64e7ca68-2201-4543-9734-1e1753d1418d",
   "metadata": {},
   "outputs": [],
   "source": [
    "def date_time(table_cells):\n",
    "    \"\"\"\n",
    "    This function returns the data and time from the HTML  table cell\n",
    "    Input: the  element of a table data cell extracts extra row\n",
    "    \"\"\"\n",
    "    return [data_time.strip() for data_time in list(table_cells.strings)][0:2]\n",
    "\n",
    "def booster_version(table_cells):\n",
    "    \"\"\"\n",
    "    This function returns the booster version from the HTML  table cell \n",
    "    Input: the  element of a table data cell extracts extra row\n",
    "    \"\"\"\n",
    "    out=''.join([booster_version for i,booster_version in enumerate( table_cells.strings) if i%2==0][0:-1])\n",
    "    return out\n",
    "\n",
    "def landing_status(table_cells):\n",
    "    \"\"\"\n",
    "    This function returns the landing status from the HTML table cell \n",
    "    Input: the  element of a table data cell extracts extra row\n",
    "    \"\"\"\n",
    "    out=[i for i in table_cells.strings][0]\n",
    "    return out\n",
    "\n",
    "\n",
    "def get_mass(table_cells):\n",
    "    mass=unicodedata.normalize(\"NFKD\", table_cells.text).strip()\n",
    "    if mass:\n",
    "        mass.find(\"kg\")\n",
    "        new_mass=mass[0:mass.find(\"kg\")+2]\n",
    "    else:\n",
    "        new_mass=0\n",
    "    return new_mass\n",
    "\n",
    "\n",
    "def extract_column_from_header(row):\n",
    "    \"\"\"\n",
    "    This function returns the landing status from the HTML table cell \n",
    "    Input: the  element of a table data cell extracts extra row\n",
    "    \"\"\"\n",
    "    if (row.br):\n",
    "        row.br.extract()\n",
    "    if row.a:\n",
    "        row.a.extract()\n",
    "    if row.sup:\n",
    "        row.sup.extract()\n",
    "        \n",
    "    colunm_name = ' '.join(row.contents)\n",
    "    \n",
    "    # Filter the digit and empty names\n",
    "    if not(colunm_name.strip().isdigit()):\n",
    "        colunm_name = colunm_name.strip()\n",
    "        return colunm_name    \n"
   ]
  },
  {
   "cell_type": "markdown",
   "id": "e47870b7-752a-4576-8768-6ccfa8f2f4c3",
   "metadata": {},
   "source": [
    "To keep the lab tasks consistent, you will be asked to scrape the data from a snapshot of the  `List of Falcon 9 and Falcon Heavy launches` Wikipage updated on\n",
    "`9th June 2021`\n"
   ]
  },
  {
   "cell_type": "code",
   "execution_count": 3,
   "id": "cc525e75-fec2-401d-ab6e-8d2b2ef7c426",
   "metadata": {},
   "outputs": [],
   "source": [
    "static_url = \"https://en.wikipedia.org/w/index.php?title=List_of_Falcon_9_and_Falcon_Heavy_launches&oldid=1027686922\""
   ]
  },
  {
   "cell_type": "markdown",
   "id": "0b7a0ee1-f88f-4c64-91ca-6f45e6a684f4",
   "metadata": {},
   "source": [
    "Next, request the HTML page from the above URL and get a `response` object\n"
   ]
  },
  {
   "cell_type": "markdown",
   "id": "cdf1b091-196a-47b5-8dd6-b7ce9fdefce4",
   "metadata": {},
   "source": [
    "### TASK 1: Request the Falcon9 Launch Wiki page from its URL\n"
   ]
  },
  {
   "cell_type": "markdown",
   "id": "8cb63967-b688-42f9-8775-b18587169579",
   "metadata": {},
   "source": [
    "First, let's perform an HTTP GET method to request the Falcon9 Launch HTML page, as an HTTP response.\n"
   ]
  },
  {
   "cell_type": "code",
   "execution_count": 4,
   "id": "1571d30a-141d-457f-baa3-538fcea60f1a",
   "metadata": {},
   "outputs": [],
   "source": [
    "# use requests.get() method with the provided static_url and assign the response to a object\n",
    "response = requests.get(static_url)"
   ]
  },
  {
   "cell_type": "markdown",
   "id": "092c88c9-deeb-4614-b747-2e64a7147825",
   "metadata": {},
   "source": [
    "Create a `BeautifulSoup` object from the HTML `response`\n"
   ]
  },
  {
   "cell_type": "code",
   "execution_count": 5,
   "id": "e24216e7-a817-4392-959a-9d8a3a0777d5",
   "metadata": {},
   "outputs": [],
   "source": [
    "# Use BeautifulSoup() to create a BeautifulSoup object from a response text content\n",
    "soup = BeautifulSoup(response.text, 'html.parser')"
   ]
  },
  {
   "cell_type": "markdown",
   "id": "9fff6330-aed7-4efd-90d1-a5e9dad25eff",
   "metadata": {},
   "source": [
    "Print the page title to verify if the `BeautifulSoup` object was created properly \n"
   ]
  },
  {
   "cell_type": "code",
   "execution_count": 6,
   "id": "083edb6a-387c-4fe7-9278-238b6bac7339",
   "metadata": {},
   "outputs": [
    {
     "data": {
      "text/plain": [
       "<title>List of Falcon 9 and Falcon Heavy launches - Wikipedia</title>"
      ]
     },
     "execution_count": 6,
     "metadata": {},
     "output_type": "execute_result"
    }
   ],
   "source": [
    "# Use soup.title attribute\n",
    "soup.title"
   ]
  },
  {
   "cell_type": "markdown",
   "id": "cd249b6c-478e-4ca8-a5f3-4f41943dd681",
   "metadata": {},
   "source": [
    "### TASK 2: Extract all column/variable names from the HTML table header\n"
   ]
  },
  {
   "cell_type": "markdown",
   "id": "426a67ab-e679-4395-ad1b-4dd756fb7e8b",
   "metadata": {},
   "source": [
    "Next, we want to collect all relevant column names from the HTML table header\n"
   ]
  },
  {
   "cell_type": "markdown",
   "id": "2d0f485d-8ad5-4543-92c0-f0c859167af3",
   "metadata": {},
   "source": [
    "Let's try to find all tables on the wiki page first. If you need to refresh your memory about `BeautifulSoup`, please check the external reference link towards the end of this lab\n"
   ]
  },
  {
   "cell_type": "code",
   "execution_count": 7,
   "metadata": {},
   "outputs": [],
   "source": [
    "from io import StringIO"
   ]
  },
  {
   "cell_type": "code",
   "execution_count": null,
   "metadata": {},
   "outputs": [
    {
     "name": "stdout",
     "output_type": "stream",
     "text": [
      "Found 13 wikitable(s)\n"
     ]
    }
   ],
   "source": [
    "# Use BeautifulSoup() to create a BeautifulSoup object from a response text content\n",
    "soup = BeautifulSoup(response.text, 'html.parser')\n",
    "\n",
    "# Find all tables with class 'wikitable'\n",
    "tables = soup.find_all('table', {'class': 'wikitable'})\n",
    "\n",
    "print(f\"Found {len(tables)} wikitable(s)\")\n"
   ]
  },
  {
   "cell_type": "code",
   "execution_count": 55,
   "metadata": {},
   "outputs": [],
   "source": [
    "# Create dataframe\n",
    "column_names = [\n",
    "    'Flight No.', 'Date and time (UTC)', 'Version, Booster', 'Launch site', 'Payload', \n",
    "    'Payload mass', 'Orbit', 'Customer', 'Launch outcome', 'Booster landing'\n",
    "]\n",
    "df = pd.DataFrame(columns=column_names)\n",
    "\n",
    "# Convert the HTML table to a pandas DataFrame\n",
    "for table in tables: \n",
    "    # Read html string\n",
    "    html_string = str(table)\n",
    "    html_file = StringIO(html_string)\n",
    "    # Convert table to DataFrame and append to master DataFrame\n",
    "    sub_table = pd.read_html(html_file)[0]\n",
    "    if len(sub_table.columns) != 10:\n",
    "        continue\n",
    "\n",
    "    sub_table.columns = column_names\n",
    "    sub_table = sub_table.loc[sub_table['Date and time (UTC)'] != sub_table['Version, Booster']]\n",
    "    df = pd.concat([df, sub_table], axis=0)\n"
   ]
  },
  {
   "cell_type": "code",
   "execution_count": 56,
   "metadata": {},
   "outputs": [
    {
     "data": {
      "text/html": [
       "<div>\n",
       "<style scoped>\n",
       "    .dataframe tbody tr th:only-of-type {\n",
       "        vertical-align: middle;\n",
       "    }\n",
       "\n",
       "    .dataframe tbody tr th {\n",
       "        vertical-align: top;\n",
       "    }\n",
       "\n",
       "    .dataframe thead th {\n",
       "        text-align: right;\n",
       "    }\n",
       "</style>\n",
       "<table border=\"1\" class=\"dataframe\">\n",
       "  <thead>\n",
       "    <tr style=\"text-align: right;\">\n",
       "      <th></th>\n",
       "      <th>Flight No.</th>\n",
       "      <th>Date and time (UTC)</th>\n",
       "      <th>Version, Booster</th>\n",
       "      <th>Launch site</th>\n",
       "      <th>Payload</th>\n",
       "      <th>Payload mass</th>\n",
       "      <th>Orbit</th>\n",
       "      <th>Customer</th>\n",
       "      <th>Launch outcome</th>\n",
       "      <th>Booster landing</th>\n",
       "    </tr>\n",
       "  </thead>\n",
       "  <tbody>\n",
       "    <tr>\n",
       "      <th>0</th>\n",
       "      <td>1</td>\n",
       "      <td>4 June 2010, 18:45</td>\n",
       "      <td>F9 v1.0 B0003.1</td>\n",
       "      <td>CCAFS, SLC-40</td>\n",
       "      <td>Dragon Spacecraft Qualification Unit</td>\n",
       "      <td>NaN</td>\n",
       "      <td>LEO</td>\n",
       "      <td>SpaceX</td>\n",
       "      <td>Success</td>\n",
       "      <td>Failure (parachute)</td>\n",
       "    </tr>\n",
       "    <tr>\n",
       "      <th>1</th>\n",
       "      <td>2</td>\n",
       "      <td>8 December 2010, 15:43</td>\n",
       "      <td>F9 v1.0 B0004.1</td>\n",
       "      <td>CCAFS, SLC-40</td>\n",
       "      <td>Dragon demo flight C1 (Dragon C101)</td>\n",
       "      <td>NaN</td>\n",
       "      <td>LEO (ISS)</td>\n",
       "      <td>NASA (COTS) NRO</td>\n",
       "      <td>Success</td>\n",
       "      <td>Failure (parachute)</td>\n",
       "    </tr>\n",
       "    <tr>\n",
       "      <th>2</th>\n",
       "      <td>3</td>\n",
       "      <td>22 May 2012, 07:44</td>\n",
       "      <td>F9 v1.0 B0005.1</td>\n",
       "      <td>CCAFS, SLC-40</td>\n",
       "      <td>Dragon demo flight C2+ (Dragon C102)</td>\n",
       "      <td>525 kg (1,157 lb)</td>\n",
       "      <td>LEO (ISS)</td>\n",
       "      <td>NASA (COTS)</td>\n",
       "      <td>Success</td>\n",
       "      <td>No attempt</td>\n",
       "    </tr>\n",
       "    <tr>\n",
       "      <th>3</th>\n",
       "      <td>4</td>\n",
       "      <td>8 October 2012, 00:35</td>\n",
       "      <td>F9 v1.0 B0006.1</td>\n",
       "      <td>CCAFS, SLC-40</td>\n",
       "      <td>SpaceX CRS-1 (Dragon C103)</td>\n",
       "      <td>4,700 kg (10,400 lb)</td>\n",
       "      <td>LEO (ISS)</td>\n",
       "      <td>NASA (CRS)</td>\n",
       "      <td>Success</td>\n",
       "      <td>No attempt</td>\n",
       "    </tr>\n",
       "    <tr>\n",
       "      <th>4</th>\n",
       "      <td>4</td>\n",
       "      <td>8 October 2012, 00:35</td>\n",
       "      <td>F9 v1.0 B0006.1</td>\n",
       "      <td>CCAFS, SLC-40</td>\n",
       "      <td>Orbcomm-OG2</td>\n",
       "      <td>172 kg (379 lb)</td>\n",
       "      <td>LEO</td>\n",
       "      <td>Orbcomm</td>\n",
       "      <td>Partial failure</td>\n",
       "      <td>No attempt</td>\n",
       "    </tr>\n",
       "    <tr>\n",
       "      <th>...</th>\n",
       "      <td>...</td>\n",
       "      <td>...</td>\n",
       "      <td>...</td>\n",
       "      <td>...</td>\n",
       "      <td>...</td>\n",
       "      <td>...</td>\n",
       "      <td>...</td>\n",
       "      <td>...</td>\n",
       "      <td>...</td>\n",
       "      <td>...</td>\n",
       "    </tr>\n",
       "    <tr>\n",
       "      <th>127</th>\n",
       "      <td>117</td>\n",
       "      <td>9 May 2021 06:42</td>\n",
       "      <td>F9 B5 ♺ B1051.10</td>\n",
       "      <td>CCSFS, SLC-40</td>\n",
       "      <td>Starlink 27 v1.0 (60 satellites)</td>\n",
       "      <td>15,600 kg (34,400 lb)</td>\n",
       "      <td>LEO</td>\n",
       "      <td>SpaceX</td>\n",
       "      <td>Success</td>\n",
       "      <td>Success (drone ship)</td>\n",
       "    </tr>\n",
       "    <tr>\n",
       "      <th>128</th>\n",
       "      <td>118</td>\n",
       "      <td>15 May 2021 22:56</td>\n",
       "      <td>F9 B5 ♺ B1058.8</td>\n",
       "      <td>KSC, LC-39A</td>\n",
       "      <td>Starlink 26 v1.0 (52 Satellites)  Capella-6 &amp;T...</td>\n",
       "      <td>~14,000 kg (31,000 lb)</td>\n",
       "      <td>LEO</td>\n",
       "      <td>SpaceX  Capella Space and Tyvak</td>\n",
       "      <td>Success</td>\n",
       "      <td>Success (drone ship)</td>\n",
       "    </tr>\n",
       "    <tr>\n",
       "      <th>129</th>\n",
       "      <td>119</td>\n",
       "      <td>26 May 2021 18:59</td>\n",
       "      <td>F9 B5 ♺ B1063.2</td>\n",
       "      <td>CCSFS, SLC-40</td>\n",
       "      <td>Starlink 28 v1.0 (60 Satellites)</td>\n",
       "      <td>15,600 kg (34,400 lb)</td>\n",
       "      <td>LEO</td>\n",
       "      <td>SpaceX</td>\n",
       "      <td>Success</td>\n",
       "      <td>Success (drone ship)</td>\n",
       "    </tr>\n",
       "    <tr>\n",
       "      <th>130</th>\n",
       "      <td>120</td>\n",
       "      <td>3 June 2021 17:29</td>\n",
       "      <td>F9 B5 B1067.1</td>\n",
       "      <td>KSC, LC-39A</td>\n",
       "      <td>SpaceX CRS-22 (Dragon C209.1)</td>\n",
       "      <td>3,328 kg (7,337 lb)</td>\n",
       "      <td>LEO (ISS)</td>\n",
       "      <td>NASA (CRS)</td>\n",
       "      <td>Success</td>\n",
       "      <td>Success (drone ship)</td>\n",
       "    </tr>\n",
       "    <tr>\n",
       "      <th>131</th>\n",
       "      <td>121</td>\n",
       "      <td>6 June 2021 04:26</td>\n",
       "      <td>F9 B5 ♺ B1061.3</td>\n",
       "      <td>CCSFS, SLC-40</td>\n",
       "      <td>SXM-8</td>\n",
       "      <td>7,000 kg (15,000 lb)</td>\n",
       "      <td>GTO</td>\n",
       "      <td>Sirius XM</td>\n",
       "      <td>Success</td>\n",
       "      <td>Success (drone ship)</td>\n",
       "    </tr>\n",
       "  </tbody>\n",
       "</table>\n",
       "<p>132 rows × 10 columns</p>\n",
       "</div>"
      ],
      "text/plain": [
       "    Flight No.     Date and time (UTC)  Version, Booster    Launch site  \\\n",
       "0            1      4 June 2010, 18:45   F9 v1.0 B0003.1  CCAFS, SLC-40   \n",
       "1            2  8 December 2010, 15:43   F9 v1.0 B0004.1  CCAFS, SLC-40   \n",
       "2            3      22 May 2012, 07:44   F9 v1.0 B0005.1  CCAFS, SLC-40   \n",
       "3            4   8 October 2012, 00:35   F9 v1.0 B0006.1  CCAFS, SLC-40   \n",
       "4            4   8 October 2012, 00:35   F9 v1.0 B0006.1  CCAFS, SLC-40   \n",
       "..         ...                     ...               ...            ...   \n",
       "127        117        9 May 2021 06:42  F9 B5 ♺ B1051.10  CCSFS, SLC-40   \n",
       "128        118       15 May 2021 22:56   F9 B5 ♺ B1058.8    KSC, LC-39A   \n",
       "129        119       26 May 2021 18:59   F9 B5 ♺ B1063.2  CCSFS, SLC-40   \n",
       "130        120       3 June 2021 17:29     F9 B5 B1067.1    KSC, LC-39A   \n",
       "131        121       6 June 2021 04:26   F9 B5 ♺ B1061.3  CCSFS, SLC-40   \n",
       "\n",
       "                                               Payload  \\\n",
       "0                 Dragon Spacecraft Qualification Unit   \n",
       "1                  Dragon demo flight C1 (Dragon C101)   \n",
       "2                 Dragon demo flight C2+ (Dragon C102)   \n",
       "3                           SpaceX CRS-1 (Dragon C103)   \n",
       "4                                          Orbcomm-OG2   \n",
       "..                                                 ...   \n",
       "127                   Starlink 27 v1.0 (60 satellites)   \n",
       "128  Starlink 26 v1.0 (52 Satellites)  Capella-6 &T...   \n",
       "129                   Starlink 28 v1.0 (60 Satellites)   \n",
       "130                      SpaceX CRS-22 (Dragon C209.1)   \n",
       "131                                              SXM-8   \n",
       "\n",
       "               Payload mass      Orbit                         Customer  \\\n",
       "0                       NaN        LEO                           SpaceX   \n",
       "1                       NaN  LEO (ISS)                  NASA (COTS) NRO   \n",
       "2         525 kg (1,157 lb)  LEO (ISS)                      NASA (COTS)   \n",
       "3      4,700 kg (10,400 lb)  LEO (ISS)                       NASA (CRS)   \n",
       "4           172 kg (379 lb)        LEO                          Orbcomm   \n",
       "..                      ...        ...                              ...   \n",
       "127   15,600 kg (34,400 lb)        LEO                           SpaceX   \n",
       "128  ~14,000 kg (31,000 lb)        LEO  SpaceX  Capella Space and Tyvak   \n",
       "129   15,600 kg (34,400 lb)        LEO                           SpaceX   \n",
       "130     3,328 kg (7,337 lb)  LEO (ISS)                       NASA (CRS)   \n",
       "131    7,000 kg (15,000 lb)        GTO                        Sirius XM   \n",
       "\n",
       "      Launch outcome       Booster landing  \n",
       "0            Success   Failure (parachute)  \n",
       "1            Success   Failure (parachute)  \n",
       "2            Success            No attempt  \n",
       "3            Success            No attempt  \n",
       "4    Partial failure            No attempt  \n",
       "..               ...                   ...  \n",
       "127          Success  Success (drone ship)  \n",
       "128          Success  Success (drone ship)  \n",
       "129          Success  Success (drone ship)  \n",
       "130          Success  Success (drone ship)  \n",
       "131          Success  Success (drone ship)  \n",
       "\n",
       "[132 rows x 10 columns]"
      ]
     },
     "execution_count": 56,
     "metadata": {},
     "output_type": "execute_result"
    }
   ],
   "source": [
    "# Function to clean Wikipedia-style references\n",
    "def clean_cell(cell):\n",
    "    if isinstance(cell, str):\n",
    "        return re.sub(r'\\[\\d+\\]', '', cell).strip()\n",
    "    return cell\n",
    "\n",
    "df = df.reset_index(drop=True)\n",
    "df = df.map(clean_cell)\n",
    "\n",
    "df\n"
   ]
  },
  {
   "cell_type": "markdown",
   "id": "f5b84e32-d802-4169-a06f-c355d1768cfe",
   "metadata": {},
   "source": [
    "Check the extracted column names\n"
   ]
  },
  {
   "cell_type": "markdown",
   "id": "ae2a7078-1692-44a7-bc39-6b2c014f2fe7",
   "metadata": {},
   "source": [
    "We can now export it to a <b>CSV</b> for the next section, but to make the answers consistent and in case you have difficulties finishing this lab. \n",
    "\n",
    "Following labs will be using a provided dataset to make each lab independent. \n"
   ]
  },
  {
   "cell_type": "markdown",
   "id": "51033bb6-8bb7-4b96-b4f8-a7791f09d1d5",
   "metadata": {},
   "source": [
    "<code>df.to_csv('spacex_web_scraped.csv', index=False)</code>\n"
   ]
  },
  {
   "cell_type": "markdown",
   "id": "034c33c0-3994-4b85-8b6d-5e91250763f7",
   "metadata": {},
   "source": [
    "## Authors\n"
   ]
  },
  {
   "cell_type": "markdown",
   "id": "ecd10e97-65e4-4e0e-b23b-996e560ee644",
   "metadata": {},
   "source": [
    "<a href=\"https://www.linkedin.com/in/yan-luo-96288783/\">Yan Luo</a>\n"
   ]
  },
  {
   "cell_type": "markdown",
   "id": "dd7bf60e-612d-473d-9acb-466c293752ad",
   "metadata": {},
   "source": [
    "<a href=\"https://www.linkedin.com/in/nayefaboutayoun/\">Nayef Abou Tayoun</a>\n"
   ]
  },
  {
   "cell_type": "markdown",
   "id": "90f475ce-4568-4f93-8674-f4f67c21ec07",
   "metadata": {},
   "source": [
    "<!--\n",
    "## Change Log\n",
    "-->\n"
   ]
  },
  {
   "cell_type": "markdown",
   "id": "12c0234b-45a3-43ba-a9e8-352b66da7cf7",
   "metadata": {},
   "source": [
    "<!--\n",
    "| Date (YYYY-MM-DD) | Version | Changed By | Change Description      |\n",
    "| ----------------- | ------- | ---------- | ----------------------- |\n",
    "| 2021-06-09        | 1.0     | Yan Luo    | Tasks updates           |\n",
    "| 2020-11-10        | 1.0     | Nayef      | Created the initial version |\n",
    "-->\n"
   ]
  },
  {
   "cell_type": "markdown",
   "id": "f322ba7b-d72d-4e9d-b019-f0c7f95e57e9",
   "metadata": {},
   "source": [
    "Copyright © 2021 IBM Corporation. All rights reserved.\n"
   ]
  }
 ],
 "metadata": {
  "kernelspec": {
   "display_name": "base",
   "language": "python",
   "name": "python3"
  },
  "language_info": {
   "codemirror_mode": {
    "name": "ipython",
    "version": 3
   },
   "file_extension": ".py",
   "mimetype": "text/x-python",
   "name": "python",
   "nbconvert_exporter": "python",
   "pygments_lexer": "ipython3",
   "version": "3.12.3"
  },
  "prev_pub_hash": "64f1b0aac408997185c47caba18730e0028b75e7934a0e5bf0ae73c5cb7ba677"
 },
 "nbformat": 4,
 "nbformat_minor": 4
}
